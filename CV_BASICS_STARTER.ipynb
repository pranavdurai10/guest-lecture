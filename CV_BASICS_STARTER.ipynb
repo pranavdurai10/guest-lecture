{
 "cells": [
  {
   "cell_type": "markdown",
   "id": "fbfbe9b3-4a75-4400-9f95-15c1940f90eb",
   "metadata": {},
   "source": [
    "# OpenCV Basics - Pranav Durai"
   ]
  },
  {
   "cell_type": "markdown",
   "id": "75b0ab4e-c175-431d-869e-a77166592082",
   "metadata": {},
   "source": [
    "### Install OpenCV through Command-Line"
   ]
  },
  {
   "cell_type": "code",
   "execution_count": null,
   "id": "b721ffef",
   "metadata": {},
   "outputs": [],
   "source": [
    "!pip install opencv-python"
   ]
  }
 ],
 "metadata": {
  "kernelspec": {
   "display_name": "Python 3 (ipykernel)",
   "language": "python",
   "name": "python3"
  },
  "language_info": {
   "codemirror_mode": {
    "name": "ipython",
    "version": 3
   },
   "file_extension": ".py",
   "mimetype": "text/x-python",
   "name": "python",
   "nbconvert_exporter": "python",
   "pygments_lexer": "ipython3",
   "version": "3.10.13"
  }
 },
 "nbformat": 4,
 "nbformat_minor": 5
}
